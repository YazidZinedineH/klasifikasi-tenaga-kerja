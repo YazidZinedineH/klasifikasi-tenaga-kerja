{
 "cells": [
  {
   "cell_type": "markdown",
   "id": "63c2a9ce",
   "metadata": {},
   "source": [
    "# Import Library yang diperlukan"
   ]
  },
  {
   "cell_type": "code",
   "execution_count": 1,
   "id": "09bc78f6",
   "metadata": {},
   "outputs": [],
   "source": [
    "import numpy as np\n",
    "import pandas as pd\n",
    "import glob\n",
    "import openpyxl\n",
    "import seaborn as sns\n",
    "import matplotlib.pyplot as plt\n",
    "from sklearn.preprocessing import LabelEncoder\n",
    "from sklearn.model_selection import train_test_split\n",
    "from sklearn.svm import SVC\n",
    "from sklearn.metrics import confusion_matrix\n",
    "from sklearn.metrics import f1_score, accuracy_score\n",
    "from sklearn.metrics import confusion_matrix\n",
    "from sklearn.metrics import classification_report\n",
    "from sklearn.preprocessing import MinMaxScaler\n",
    "import warnings\n",
    "warnings.filterwarnings('ignore')"
   ]
  },
  {
   "cell_type": "markdown",
   "id": "841a9883",
   "metadata": {},
   "source": [
    "# Import dan Baca Data"
   ]
  },
  {
   "cell_type": "code",
   "execution_count": 2,
   "id": "7171dd3b",
   "metadata": {},
   "outputs": [],
   "source": [
    "data = pd.read_excel(\"C:/E_Drive/data zinedine/masa kuliah/matkul smt 6/Kerja Praktikum (KP)/3 data angkatan kerja jawa barat 2018-2021.xlsx\")"
   ]
  },
  {
   "cell_type": "code",
   "execution_count": 3,
   "id": "8298877c",
   "metadata": {},
   "outputs": [
    {
     "data": {
      "text/html": [
       "<div>\n",
       "<style scoped>\n",
       "    .dataframe tbody tr th:only-of-type {\n",
       "        vertical-align: middle;\n",
       "    }\n",
       "\n",
       "    .dataframe tbody tr th {\n",
       "        vertical-align: top;\n",
       "    }\n",
       "\n",
       "    .dataframe thead th {\n",
       "        text-align: right;\n",
       "    }\n",
       "</style>\n",
       "<table border=\"1\" class=\"dataframe\">\n",
       "  <thead>\n",
       "    <tr style=\"text-align: right;\">\n",
       "      <th></th>\n",
       "      <th>Tahun</th>\n",
       "      <th>Kabupaten</th>\n",
       "      <th>Jumlah</th>\n",
       "      <th>Status</th>\n",
       "    </tr>\n",
       "  </thead>\n",
       "  <tbody>\n",
       "    <tr>\n",
       "      <th>0</th>\n",
       "      <td>2017</td>\n",
       "      <td>Bogor</td>\n",
       "      <td>2351753</td>\n",
       "      <td>Bekerja</td>\n",
       "    </tr>\n",
       "    <tr>\n",
       "      <th>1</th>\n",
       "      <td>2017</td>\n",
       "      <td>Sukabumi</td>\n",
       "      <td>1037532</td>\n",
       "      <td>Bekerja</td>\n",
       "    </tr>\n",
       "    <tr>\n",
       "      <th>2</th>\n",
       "      <td>2017</td>\n",
       "      <td>Cianjur</td>\n",
       "      <td>846258</td>\n",
       "      <td>Bekerja</td>\n",
       "    </tr>\n",
       "    <tr>\n",
       "      <th>3</th>\n",
       "      <td>2017</td>\n",
       "      <td>Bandung</td>\n",
       "      <td>1584391</td>\n",
       "      <td>Bekerja</td>\n",
       "    </tr>\n",
       "    <tr>\n",
       "      <th>4</th>\n",
       "      <td>2017</td>\n",
       "      <td>Garut</td>\n",
       "      <td>1044137</td>\n",
       "      <td>Bekerja</td>\n",
       "    </tr>\n",
       "    <tr>\n",
       "      <th>...</th>\n",
       "      <td>...</td>\n",
       "      <td>...</td>\n",
       "      <td>...</td>\n",
       "      <td>...</td>\n",
       "    </tr>\n",
       "    <tr>\n",
       "      <th>400</th>\n",
       "      <td>2021</td>\n",
       "      <td>Kota Bekasi</td>\n",
       "      <td>840600</td>\n",
       "      <td>Bukan Angkatan Kerja</td>\n",
       "    </tr>\n",
       "    <tr>\n",
       "      <th>401</th>\n",
       "      <td>2021</td>\n",
       "      <td>Kota Depok</td>\n",
       "      <td>720646</td>\n",
       "      <td>Bukan Angkatan Kerja</td>\n",
       "    </tr>\n",
       "    <tr>\n",
       "      <th>402</th>\n",
       "      <td>2021</td>\n",
       "      <td>Kota Cimahi</td>\n",
       "      <td>180704</td>\n",
       "      <td>Bukan Angkatan Kerja</td>\n",
       "    </tr>\n",
       "    <tr>\n",
       "      <th>403</th>\n",
       "      <td>2021</td>\n",
       "      <td>Kota Tasikmalaya</td>\n",
       "      <td>178418</td>\n",
       "      <td>Bukan Angkatan Kerja</td>\n",
       "    </tr>\n",
       "    <tr>\n",
       "      <th>404</th>\n",
       "      <td>2021</td>\n",
       "      <td>Kota Banjar</td>\n",
       "      <td>52920</td>\n",
       "      <td>Bukan Angkatan Kerja</td>\n",
       "    </tr>\n",
       "  </tbody>\n",
       "</table>\n",
       "<p>405 rows × 4 columns</p>\n",
       "</div>"
      ],
      "text/plain": [
       "     Tahun         Kabupaten   Jumlah                Status\n",
       "0     2017             Bogor  2351753               Bekerja\n",
       "1     2017          Sukabumi  1037532               Bekerja\n",
       "2     2017           Cianjur   846258               Bekerja\n",
       "3     2017           Bandung  1584391               Bekerja\n",
       "4     2017             Garut  1044137               Bekerja\n",
       "..     ...               ...      ...                   ...\n",
       "400   2021       Kota Bekasi   840600  Bukan Angkatan Kerja\n",
       "401   2021        Kota Depok   720646  Bukan Angkatan Kerja\n",
       "402   2021       Kota Cimahi   180704  Bukan Angkatan Kerja\n",
       "403   2021  Kota Tasikmalaya   178418  Bukan Angkatan Kerja\n",
       "404   2021       Kota Banjar    52920  Bukan Angkatan Kerja\n",
       "\n",
       "[405 rows x 4 columns]"
      ]
     },
     "execution_count": 3,
     "metadata": {},
     "output_type": "execute_result"
    }
   ],
   "source": [
    "data"
   ]
  },
  {
   "cell_type": "code",
   "execution_count": 4,
   "id": "867bdc40",
   "metadata": {},
   "outputs": [
    {
     "data": {
      "text/plain": [
       "Tahun        0\n",
       "Kabupaten    0\n",
       "Jumlah       0\n",
       "Status       0\n",
       "dtype: int64"
      ]
     },
     "execution_count": 4,
     "metadata": {},
     "output_type": "execute_result"
    }
   ],
   "source": [
    "#menghitung missing value\n",
    "data.isnull().sum()"
   ]
  },
  {
   "cell_type": "code",
   "execution_count": 5,
   "id": "1cd1f301",
   "metadata": {},
   "outputs": [
    {
     "data": {
      "text/plain": [
       "Bekerja                 135\n",
       "Pengangguran            135\n",
       "Bukan Angkatan Kerja    135\n",
       "Name: Status, dtype: int64"
      ]
     },
     "execution_count": 5,
     "metadata": {},
     "output_type": "execute_result"
    }
   ],
   "source": [
    "#menghitung jumlah output\n",
    "data['Status'].value_counts()"
   ]
  },
  {
   "cell_type": "code",
   "execution_count": 6,
   "id": "b18ba159",
   "metadata": {},
   "outputs": [
    {
     "name": "stdout",
     "output_type": "stream",
     "text": [
      "<class 'pandas.core.frame.DataFrame'>\n",
      "RangeIndex: 405 entries, 0 to 404\n",
      "Data columns (total 4 columns):\n",
      " #   Column     Non-Null Count  Dtype \n",
      "---  ------     --------------  ----- \n",
      " 0   Tahun      405 non-null    int64 \n",
      " 1   Kabupaten  405 non-null    object\n",
      " 2   Jumlah     405 non-null    int64 \n",
      " 3   Status     405 non-null    object\n",
      "dtypes: int64(2), object(2)\n",
      "memory usage: 12.8+ KB\n"
     ]
    }
   ],
   "source": [
    "#mengecek tipe data tiap variabel\n",
    "data.info()"
   ]
  },
  {
   "cell_type": "code",
   "execution_count": 7,
   "id": "4e5b843b",
   "metadata": {},
   "outputs": [
    {
     "data": {
      "image/png": "[encoded data removed]",
      "text/plain": [
       "<Figure size 1200x600 with 1 Axes>"
      ]
     },
     "metadata": {},
     "output_type": "display_data"
    }
   ],
   "source": [
    "#output Variabel\n",
    "fig=plt.figure(figsize=(12,6))\n",
    "sns.countplot(x=data[\"Status\"])\n",
    "plt.show()"
   ]
  },
  {
   "cell_type": "markdown",
   "id": "44d66cff",
   "metadata": {},
   "source": [
    "# Data Prepocesing"
   ]
  },
  {
   "cell_type": "code",
   "execution_count": 8,
   "id": "31160baa",
   "metadata": {},
   "outputs": [
    {
     "name": "stdout",
     "output_type": "stream",
     "text": [
      "     Tahun  Kabupaten   Jumlah  Status\n",
      "0        0          3  2351753       0\n",
      "1        0         24  1037532       0\n",
      "2        0          5   846258       0\n",
      "3        0          0  1584391       0\n",
      "4        0          7  1044137       0\n",
      "..     ...        ...      ...     ...\n",
      "400      4         12   840600       1\n",
      "401      4         16   720646       1\n",
      "402      4         14   180704       1\n",
      "403      4         18   178418       1\n",
      "404      4         11    52920       1\n",
      "\n",
      "[405 rows x 4 columns]\n"
     ]
    }
   ],
   "source": [
    "#melabeli data yang ada di variabel \"Tahun\", \"Kabupaten\", dan \"Status\" menjadi numerik\n",
    "data[['Tahun', 'Kabupaten', 'Status']] = data[['Tahun', 'Kabupaten', 'Status']].apply(LabelEncoder().fit_transform)\n",
    "\n",
    "#view udpated DataFrame\n",
    "print(data)"
   ]
  },
  {
   "cell_type": "code",
   "execution_count": 9,
   "id": "b1d9bf65",
   "metadata": {},
   "outputs": [],
   "source": [
    "#Normalisasi data variabel \"Jumlah\" dengan standalcaler\n",
    "columns = ['Jumlah']\n",
    "scaler = MinMaxScaler()\n",
    "data_scale = scaler.fit_transform(data[columns])"
   ]
  },
  {
   "cell_type": "code",
   "execution_count": 10,
   "id": "25161abf",
   "metadata": {},
   "outputs": [
    {
     "data": {
      "text/plain": [
       "array([[9.26024692e-01],\n",
       "       [4.07360867e-01],\n",
       "       [3.31873636e-01],\n",
       "       [6.23181479e-01],\n",
       "       [4.09967563e-01],\n",
       "       [2.98673288e-01],\n",
       "       [2.35524550e-01],\n",
       "       [1.65898339e-01],\n",
       "       [3.45508570e-01],\n",
       "       [2.22551847e-01],\n",
       "       [1.97520857e-01],\n",
       "       [2.92314213e-01],\n",
       "       [2.83745465e-01],\n",
       "       [1.52893275e-01],\n",
       "       [3.96822002e-01],\n",
       "       [5.50309232e-01],\n",
       "       [2.63041472e-01],\n",
       "       [9.08590415e-02],\n",
       "       [1.74851481e-01],\n",
       "       [4.95576115e-02],\n",
       "       [4.38537425e-01],\n",
       "       [5.40318147e-02],\n",
       "       [4.97799996e-01],\n",
       "       [3.96258829e-01],\n",
       "       [1.05246582e-01],\n",
       "       [1.12499946e-01],\n",
       "       [3.10573714e-02],\n",
       "       [9.59133874e-02],\n",
       "       [3.18395775e-02],\n",
       "       [3.54254124e-02],\n",
       "       [2.34172462e-02],\n",
       "       [3.30618239e-02],\n",
       "       [1.91656284e-02],\n",
       "       [1.08419608e-02],\n",
       "       [1.23787472e-02],\n",
       "       [3.48578986e-02],\n",
       "       [9.77797107e-03],\n",
       "       [1.32765872e-02],\n",
       "       [2.57212418e-02],\n",
       "       [2.52662046e-02],\n",
       "       [1.34312920e-02],\n",
       "       [4.00101190e-02],\n",
       "       [6.59369760e-02],\n",
       "       [2.51683302e-02],\n",
       "       [1.10661248e-03],\n",
       "       [1.66153681e-02],\n",
       "       [2.38332125e-03],\n",
       "       [3.84914867e-02],\n",
       "       [3.64305985e-03],\n",
       "       [4.92991125e-02],\n",
       "       [2.78973692e-02],\n",
       "       [7.77312392e-03],\n",
       "       [6.37012557e-03],\n",
       "       [0.00000000e+00],\n",
       "       [5.73330245e-01],\n",
       "       [2.50082976e-01],\n",
       "       [2.63790132e-01],\n",
       "       [3.83252580e-01],\n",
       "       [2.61448644e-01],\n",
       "       [1.82548832e-01],\n",
       "       [1.04770629e-01],\n",
       "       [1.31727140e-01],\n",
       "       [2.41174430e-01],\n",
       "       [1.19157775e-01],\n",
       "       [1.29363157e-01],\n",
       "       [1.84446333e-01],\n",
       "       [1.55003100e-01],\n",
       "       [9.73763733e-02],\n",
       "       [2.36018263e-01],\n",
       "       [3.90267572e-01],\n",
       "       [1.79209261e-01],\n",
       "       [2.21152795e-02],\n",
       "       [1.22326065e-01],\n",
       "       [3.65363661e-02],\n",
       "       [2.79170625e-01],\n",
       "       [2.91405323e-02],\n",
       "       [3.03353107e-01],\n",
       "       [2.38467097e-01],\n",
       "       [6.00948987e-02],\n",
       "       [6.74781036e-02],\n",
       "       [1.70727732e-02],\n",
       "       [9.31185989e-01],\n",
       "       [1.00000000e+00],\n",
       "       [9.22546203e-01],\n",
       "       [9.95907823e-02],\n",
       "       [9.83906366e-02],\n",
       "       [1.52097650e-01],\n",
       "       [6.12196653e-01],\n",
       "       [5.80906830e-01],\n",
       "       [6.40978050e-01],\n",
       "       [4.13293321e-01],\n",
       "       [4.16748525e-01],\n",
       "       [4.07046327e-01],\n",
       "       [3.32165286e-02],\n",
       "       [3.45492784e-02],\n",
       "       [4.13444473e-02],\n",
       "       [2.65944159e-01],\n",
       "       [2.69490923e-01],\n",
       "       [2.80457989e-01],\n",
       "       [3.54926616e-01],\n",
       "       [3.95617120e-01],\n",
       "       [4.14088550e-01],\n",
       "       [3.85601567e-02],\n",
       "       [4.11376481e-02],\n",
       "       [4.95998396e-02],\n",
       "       [2.60658545e-01],\n",
       "       [2.25087110e-01],\n",
       "       [2.05574975e-01],\n",
       "       [6.17476742e-01],\n",
       "       [6.60172488e-01],\n",
       "       [6.17491739e-01],\n",
       "       [3.09894907e-02],\n",
       "       [3.65470218e-02],\n",
       "       [5.60666556e-02],\n",
       "       [4.01475378e-01],\n",
       "       [3.70103072e-01],\n",
       "       [4.09863374e-01],\n",
       "       [4.04747068e-01],\n",
       "       [4.26055278e-01],\n",
       "       [4.13296872e-01],\n",
       "       [2.91058027e-02],\n",
       "       [3.18707552e-02],\n",
       "       [3.87827421e-02],\n",
       "       [2.89237483e-01],\n",
       "       [2.73952892e-01],\n",
       "       [2.88312017e-01],\n",
       "       [3.10375202e-01],\n",
       "       [3.27983917e-01],\n",
       "       [3.44170295e-01],\n",
       "       [2.11231170e-02],\n",
       "       [2.01124056e-02],\n",
       "       [2.44500582e-02],\n",
       "       [1.86132299e-01],\n",
       "       [1.75728010e-01],\n",
       "       [1.61171557e-01],\n",
       "       [2.31241360e-01],\n",
       "       [2.35177253e-01],\n",
       "       [2.50775596e-01],\n",
       "       [9.24637085e-03],\n",
       "       [1.07997327e-02],\n",
       "       [1.30583430e-02],\n",
       "       [1.20223343e-01],\n",
       "       [1.18960447e-01],\n",
       "       [1.05188173e-01],\n",
       "       [1.70739966e-01],\n",
       "       [1.79524591e-01],\n",
       "       [1.80683692e-01],\n",
       "       [1.51950049e-02],\n",
       "       [1.73517942e-02],\n",
       "       [2.09861717e-02],\n",
       "       [1.32609983e-01],\n",
       "       [1.25396480e-01],\n",
       "       [1.24211726e-01],\n",
       "       [3.52234280e-01],\n",
       "       [3.77545080e-01],\n",
       "       [3.68165711e-01],\n",
       "       [4.00756317e-02],\n",
       "       [4.17256840e-02],\n",
       "       [4.60988555e-02],\n",
       "       [2.43549463e-01],\n",
       "       [2.23630044e-01],\n",
       "       [2.35462194e-01],\n",
       "       [2.27493321e-01],\n",
       "       [2.39426503e-01],\n",
       "       [2.44780392e-01],\n",
       "       [9.97766648e-03],\n",
       "       [8.93814533e-03],\n",
       "       [1.32055493e-02],\n",
       "       [1.24405502e-01],\n",
       "       [1.17671110e-01],\n",
       "       [1.12086347e-01],\n",
       "       [2.02364457e-01],\n",
       "       [2.10872428e-01],\n",
       "       [2.24664829e-01],\n",
       "       [1.45718448e-02],\n",
       "       [1.56488581e-02],\n",
       "       [2.27814571e-02],\n",
       "       [1.33854725e-01],\n",
       "       [1.28223788e-01],\n",
       "       [1.11144306e-01],\n",
       "       [3.08272086e-01],\n",
       "       [3.25722544e-01],\n",
       "       [3.34946814e-01],\n",
       "       [2.65725125e-02],\n",
       "       [2.77466110e-02],\n",
       "       [3.20949193e-02],\n",
       "       [1.81457611e-01],\n",
       "       [1.68604488e-01],\n",
       "       [1.60570892e-01],\n",
       "       [2.78342244e-01],\n",
       "       [2.96210247e-01],\n",
       "       [2.92418402e-01],\n",
       "       [2.46390979e-02],\n",
       "       [2.62386344e-02],\n",
       "       [2.87490346e-02],\n",
       "       [1.68090253e-01],\n",
       "       [1.53932006e-01],\n",
       "       [1.60369618e-01],\n",
       "       [1.53755596e-01],\n",
       "       [1.57749504e-01],\n",
       "       [1.49655525e-01],\n",
       "       [1.50939733e-02],\n",
       "       [1.51334388e-02],\n",
       "       [1.67917789e-02],\n",
       "       [9.89920907e-02],\n",
       "       [9.80251861e-02],\n",
       "       [1.07421920e-01],\n",
       "       [4.05438108e-01],\n",
       "       [3.99686802e-01],\n",
       "       [4.03889088e-01],\n",
       "       [3.87961603e-02],\n",
       "       [4.09549229e-02],\n",
       "       [5.07372352e-02],\n",
       "       [2.41812192e-01],\n",
       "       [2.52868846e-01],\n",
       "       [2.46090252e-01],\n",
       "       [5.78253565e-01],\n",
       "       [6.34201035e-01],\n",
       "       [6.40483152e-01],\n",
       "       [6.05440161e-02],\n",
       "       [6.08001471e-02],\n",
       "       [8.17322511e-02],\n",
       "       [4.01545232e-01],\n",
       "       [3.90791674e-01],\n",
       "       [4.02419787e-01],\n",
       "       [2.67722079e-01],\n",
       "       [2.74908746e-01],\n",
       "       [2.56821709e-01],\n",
       "       [2.31157298e-02],\n",
       "       [2.27704067e-02],\n",
       "       [3.40271499e-02],\n",
       "       [1.84515792e-01],\n",
       "       [1.83198434e-01],\n",
       "       [1.95330522e-01],\n",
       "       [9.04600453e-02],\n",
       "       [8.74223862e-02],\n",
       "       [8.99047658e-02],\n",
       "       [1.34419476e-03],\n",
       "       [2.12797950e-03],\n",
       "       [2.81744170e-03],\n",
       "       [2.53794706e-02],\n",
       "       [2.90173999e-02],\n",
       "       [2.71901475e-02],\n",
       "       [1.83014130e-01],\n",
       "       [1.88480890e-01],\n",
       "       [1.75141158e-01],\n",
       "       [1.78727388e-02],\n",
       "       [1.71039509e-02],\n",
       "       [2.36264133e-02],\n",
       "       [1.17789111e-01],\n",
       "       [1.17544820e-01],\n",
       "       [1.28703689e-01],\n",
       "       [5.06583042e-02],\n",
       "       [5.38408017e-02],\n",
       "       [4.63028921e-02],\n",
       "       [2.83954237e-03],\n",
       "       [3.08146586e-03],\n",
       "       [4.60088742e-03],\n",
       "       [3.69866674e-02],\n",
       "       [3.46124232e-02],\n",
       "       [4.16668804e-02],\n",
       "       [4.45251689e-01],\n",
       "       [4.78528995e-01],\n",
       "       [4.58791117e-01],\n",
       "       [3.70454710e-02],\n",
       "       [4.07169460e-02],\n",
       "       [5.59399714e-02],\n",
       "       [2.97835041e-01],\n",
       "       [2.68793173e-01],\n",
       "       [2.80928023e-01],\n",
       "       [5.64518389e-02],\n",
       "       [5.25921135e-02],\n",
       "       [5.28825795e-02],\n",
       "       [3.73698773e-03],\n",
       "       [3.33246641e-03],\n",
       "       [4.66837342e-03],\n",
       "       [2.83602994e-02],\n",
       "       [3.36545956e-02],\n",
       "       [3.29947325e-02],\n",
       "       [5.18565161e-01],\n",
       "       [5.39496476e-01],\n",
       "       [5.30097768e-01],\n",
       "       [5.02648332e-02],\n",
       "       [4.68873761e-02],\n",
       "       [6.15559114e-02],\n",
       "       [3.03411516e-01],\n",
       "       [3.06742798e-01],\n",
       "       [3.22418098e-01],\n",
       "       [4.01960409e-01],\n",
       "       [4.33876944e-01],\n",
       "       [4.23173902e-01],\n",
       "       [2.67445821e-02],\n",
       "       [2.63096723e-02],\n",
       "       [4.44756397e-02],\n",
       "       [2.57486308e-01],\n",
       "       [2.48434897e-01],\n",
       "       [2.63769610e-01],\n",
       "       [1.05389447e-01],\n",
       "       [1.04441881e-01],\n",
       "       [9.84119479e-02],\n",
       "       [7.24547025e-03],\n",
       "       [7.27506937e-03],\n",
       "       [1.33069756e-02],\n",
       "       [6.24821665e-02],\n",
       "       [6.52175200e-02],\n",
       "       [6.69555804e-02],\n",
       "       [1.14110927e-01],\n",
       "       [1.20455795e-01],\n",
       "       [1.22543125e-01],\n",
       "       [6.49049533e-03],\n",
       "       [6.81056049e-03],\n",
       "       [8.72345304e-03],\n",
       "       [7.23568281e-02],\n",
       "       [6.78972271e-02],\n",
       "       [6.60159070e-02],\n",
       "       [3.22697514e-02],\n",
       "       [3.39932096e-02],\n",
       "       [3.40449094e-02],\n",
       "       [6.98539264e-05],\n",
       "       [2.61656233e-04],\n",
       "       [5.02395753e-04],\n",
       "       [1.76339725e-02],\n",
       "       [1.63414776e-02],\n",
       "       [1.66796969e-02],\n",
       "       [9.63128177e-01],\n",
       "       [4.34332771e-01],\n",
       "       [4.18723378e-01],\n",
       "       [6.58158958e-01],\n",
       "       [4.30488437e-01],\n",
       "       [3.44573633e-01],\n",
       "       [2.49329185e-01],\n",
       "       [1.87093283e-01],\n",
       "       [3.80812429e-01],\n",
       "       [2.40376438e-01],\n",
       "       [2.27226535e-01],\n",
       "       [3.43327312e-01],\n",
       "       [2.99247906e-01],\n",
       "       [1.52379039e-01],\n",
       "       [4.01937519e-01],\n",
       "       [6.91010826e-01],\n",
       "       [2.64969756e-01],\n",
       "       [9.01257726e-02],\n",
       "       [1.82057486e-01],\n",
       "       [4.85654490e-02],\n",
       "       [4.65805714e-01],\n",
       "       [5.29074428e-02],\n",
       "       [5.41115350e-01],\n",
       "       [4.27789392e-01],\n",
       "       [9.81593688e-02],\n",
       "       [1.22742426e-01],\n",
       "       [3.28723895e-02],\n",
       "       [1.32314782e-01],\n",
       "       [4.37845989e-02],\n",
       "       [4.11329123e-02],\n",
       "       [5.78449709e-02],\n",
       "       [3.90215083e-02],\n",
       "       [2.06538722e-02],\n",
       "       [1.12966033e-02],\n",
       "       [2.29057734e-02],\n",
       "       [4.22643880e-02],\n",
       "       [1.25677869e-02],\n",
       "       [2.10875980e-02],\n",
       "       [2.91665795e-02],\n",
       "       [3.05210353e-02],\n",
       "       [1.64136994e-02],\n",
       "       [5.21240527e-02],\n",
       "       [7.56987662e-02],\n",
       "       [3.30977375e-02],\n",
       "       [9.87426688e-04],\n",
       "       [2.25036200e-02],\n",
       "       [4.01837671e-03],\n",
       "       [5.84752348e-02],\n",
       "       [4.36646238e-03],\n",
       "       [6.41854973e-02],\n",
       "       [4.43903943e-02],\n",
       "       [1.29667831e-02],\n",
       "       [8.24828848e-03],\n",
       "       [1.61808530e-04],\n",
       "       [6.56191998e-01],\n",
       "       [2.58454792e-01],\n",
       "       [2.16504154e-01],\n",
       "       [3.83648814e-01],\n",
       "       [2.79034074e-01],\n",
       "       [1.70319659e-01],\n",
       "       [1.12314458e-01],\n",
       "       [1.19356681e-01],\n",
       "       [2.33157015e-01],\n",
       "       [1.20979502e-01],\n",
       "       [1.13975955e-01],\n",
       "       [1.60446970e-01],\n",
       "       [1.56669333e-01],\n",
       "       [1.07886035e-01],\n",
       "       [2.53515290e-01],\n",
       "       [3.97406091e-01],\n",
       "       [1.93194649e-01],\n",
       "       [3.00967812e-02],\n",
       "       [1.27129805e-01],\n",
       "       [4.09809701e-02],\n",
       "       [2.78599954e-01],\n",
       "       [3.42043500e-02],\n",
       "       [3.29640679e-01],\n",
       "       [2.82300238e-01],\n",
       "       [6.92094548e-02],\n",
       "       [6.83072736e-02],\n",
       "       [1.87788665e-02]])"
      ]
     },
     "execution_count": 10,
     "metadata": {},
     "output_type": "execute_result"
    }
   ],
   "source": [
    "data_scale"
   ]
  },
  {
   "cell_type": "code",
   "execution_count": 11,
   "id": "c8b0d668",
   "metadata": {},
   "outputs": [],
   "source": [
    "#Memasukan variabel \"Jumlah\" yang telah dinormalisasi data ke data aktual\n",
    "data[\"Jumlah\"]=data_scale"
   ]
  },
  {
   "cell_type": "code",
   "execution_count": 12,
   "id": "95730813",
   "metadata": {},
   "outputs": [
    {
     "data": {
      "text/html": [
       "<div>\n",
       "<style scoped>\n",
       "    .dataframe tbody tr th:only-of-type {\n",
       "        vertical-align: middle;\n",
       "    }\n",
       "\n",
       "    .dataframe tbody tr th {\n",
       "        vertical-align: top;\n",
       "    }\n",
       "\n",
       "    .dataframe thead th {\n",
       "        text-align: right;\n",
       "    }\n",
       "</style>\n",
       "<table border=\"1\" class=\"dataframe\">\n",
       "  <thead>\n",
       "    <tr style=\"text-align: right;\">\n",
       "      <th></th>\n",
       "      <th>Tahun</th>\n",
       "      <th>Kabupaten</th>\n",
       "      <th>Jumlah</th>\n",
       "      <th>Status</th>\n",
       "    </tr>\n",
       "  </thead>\n",
       "  <tbody>\n",
       "    <tr>\n",
       "      <th>0</th>\n",
       "      <td>0</td>\n",
       "      <td>3</td>\n",
       "      <td>0.926025</td>\n",
       "      <td>0</td>\n",
       "    </tr>\n",
       "    <tr>\n",
       "      <th>1</th>\n",
       "      <td>0</td>\n",
       "      <td>24</td>\n",
       "      <td>0.407361</td>\n",
       "      <td>0</td>\n",
       "    </tr>\n",
       "    <tr>\n",
       "      <th>2</th>\n",
       "      <td>0</td>\n",
       "      <td>5</td>\n",
       "      <td>0.331874</td>\n",
       "      <td>0</td>\n",
       "    </tr>\n",
       "    <tr>\n",
       "      <th>3</th>\n",
       "      <td>0</td>\n",
       "      <td>0</td>\n",
       "      <td>0.623181</td>\n",
       "      <td>0</td>\n",
       "    </tr>\n",
       "    <tr>\n",
       "      <th>4</th>\n",
       "      <td>0</td>\n",
       "      <td>7</td>\n",
       "      <td>0.409968</td>\n",
       "      <td>0</td>\n",
       "    </tr>\n",
       "    <tr>\n",
       "      <th>...</th>\n",
       "      <td>...</td>\n",
       "      <td>...</td>\n",
       "      <td>...</td>\n",
       "      <td>...</td>\n",
       "    </tr>\n",
       "    <tr>\n",
       "      <th>400</th>\n",
       "      <td>4</td>\n",
       "      <td>12</td>\n",
       "      <td>0.329641</td>\n",
       "      <td>1</td>\n",
       "    </tr>\n",
       "    <tr>\n",
       "      <th>401</th>\n",
       "      <td>4</td>\n",
       "      <td>16</td>\n",
       "      <td>0.282300</td>\n",
       "      <td>1</td>\n",
       "    </tr>\n",
       "    <tr>\n",
       "      <th>402</th>\n",
       "      <td>4</td>\n",
       "      <td>14</td>\n",
       "      <td>0.069209</td>\n",
       "      <td>1</td>\n",
       "    </tr>\n",
       "    <tr>\n",
       "      <th>403</th>\n",
       "      <td>4</td>\n",
       "      <td>18</td>\n",
       "      <td>0.068307</td>\n",
       "      <td>1</td>\n",
       "    </tr>\n",
       "    <tr>\n",
       "      <th>404</th>\n",
       "      <td>4</td>\n",
       "      <td>11</td>\n",
       "      <td>0.018779</td>\n",
       "      <td>1</td>\n",
       "    </tr>\n",
       "  </tbody>\n",
       "</table>\n",
       "<p>405 rows × 4 columns</p>\n",
       "</div>"
      ],
      "text/plain": [
       "     Tahun  Kabupaten    Jumlah  Status\n",
       "0        0          3  0.926025       0\n",
       "1        0         24  0.407361       0\n",
       "2        0          5  0.331874       0\n",
       "3        0          0  0.623181       0\n",
       "4        0          7  0.409968       0\n",
       "..     ...        ...       ...     ...\n",
       "400      4         12  0.329641       1\n",
       "401      4         16  0.282300       1\n",
       "402      4         14  0.069209       1\n",
       "403      4         18  0.068307       1\n",
       "404      4         11  0.018779       1\n",
       "\n",
       "[405 rows x 4 columns]"
      ]
     },
     "execution_count": 12,
     "metadata": {},
     "output_type": "execute_result"
    }
   ],
   "source": [
    "data"
   ]
  },
  {
   "cell_type": "code",
   "execution_count": 13,
   "id": "501af271",
   "metadata": {},
   "outputs": [],
   "source": [
    "#menghilangkan variabel \"Tahun\"\n",
    "data=data.drop(columns=['Tahun'], inplace=False,axis=1)"
   ]
  },
  {
   "cell_type": "code",
   "execution_count": 14,
   "id": "83c90443",
   "metadata": {},
   "outputs": [
    {
     "data": {
      "text/html": [
       "<div>\n",
       "<style scoped>\n",
       "    .dataframe tbody tr th:only-of-type {\n",
       "        vertical-align: middle;\n",
       "    }\n",
       "\n",
       "    .dataframe tbody tr th {\n",
       "        vertical-align: top;\n",
       "    }\n",
       "\n",
       "    .dataframe thead th {\n",
       "        text-align: right;\n",
       "    }\n",
       "</style>\n",
       "<table border=\"1\" class=\"dataframe\">\n",
       "  <thead>\n",
       "    <tr style=\"text-align: right;\">\n",
       "      <th></th>\n",
       "      <th>Kabupaten</th>\n",
       "      <th>Jumlah</th>\n",
       "      <th>Status</th>\n",
       "    </tr>\n",
       "  </thead>\n",
       "  <tbody>\n",
       "    <tr>\n",
       "      <th>0</th>\n",
       "      <td>3</td>\n",
       "      <td>0.926025</td>\n",
       "      <td>0</td>\n",
       "    </tr>\n",
       "    <tr>\n",
       "      <th>1</th>\n",
       "      <td>24</td>\n",
       "      <td>0.407361</td>\n",
       "      <td>0</td>\n",
       "    </tr>\n",
       "    <tr>\n",
       "      <th>2</th>\n",
       "      <td>5</td>\n",
       "      <td>0.331874</td>\n",
       "      <td>0</td>\n",
       "    </tr>\n",
       "    <tr>\n",
       "      <th>3</th>\n",
       "      <td>0</td>\n",
       "      <td>0.623181</td>\n",
       "      <td>0</td>\n",
       "    </tr>\n",
       "    <tr>\n",
       "      <th>4</th>\n",
       "      <td>7</td>\n",
       "      <td>0.409968</td>\n",
       "      <td>0</td>\n",
       "    </tr>\n",
       "    <tr>\n",
       "      <th>...</th>\n",
       "      <td>...</td>\n",
       "      <td>...</td>\n",
       "      <td>...</td>\n",
       "    </tr>\n",
       "    <tr>\n",
       "      <th>400</th>\n",
       "      <td>12</td>\n",
       "      <td>0.329641</td>\n",
       "      <td>1</td>\n",
       "    </tr>\n",
       "    <tr>\n",
       "      <th>401</th>\n",
       "      <td>16</td>\n",
       "      <td>0.282300</td>\n",
       "      <td>1</td>\n",
       "    </tr>\n",
       "    <tr>\n",
       "      <th>402</th>\n",
       "      <td>14</td>\n",
       "      <td>0.069209</td>\n",
       "      <td>1</td>\n",
       "    </tr>\n",
       "    <tr>\n",
       "      <th>403</th>\n",
       "      <td>18</td>\n",
       "      <td>0.068307</td>\n",
       "      <td>1</td>\n",
       "    </tr>\n",
       "    <tr>\n",
       "      <th>404</th>\n",
       "      <td>11</td>\n",
       "      <td>0.018779</td>\n",
       "      <td>1</td>\n",
       "    </tr>\n",
       "  </tbody>\n",
       "</table>\n",
       "<p>405 rows × 3 columns</p>\n",
       "</div>"
      ],
      "text/plain": [
       "     Kabupaten    Jumlah  Status\n",
       "0            3  0.926025       0\n",
       "1           24  0.407361       0\n",
       "2            5  0.331874       0\n",
       "3            0  0.623181       0\n",
       "4            7  0.409968       0\n",
       "..         ...       ...     ...\n",
       "400         12  0.329641       1\n",
       "401         16  0.282300       1\n",
       "402         14  0.069209       1\n",
       "403         18  0.068307       1\n",
       "404         11  0.018779       1\n",
       "\n",
       "[405 rows x 3 columns]"
      ]
     },
     "execution_count": 14,
     "metadata": {},
     "output_type": "execute_result"
    }
   ],
   "source": [
    "data"
   ]
  },
  {
   "cell_type": "code",
   "execution_count": 15,
   "id": "397d2e1b",
   "metadata": {},
   "outputs": [
    {
     "name": "stdout",
     "output_type": "stream",
     "text": [
      "<class 'pandas.core.frame.DataFrame'>\n",
      "RangeIndex: 405 entries, 0 to 404\n",
      "Data columns (total 3 columns):\n",
      " #   Column     Non-Null Count  Dtype  \n",
      "---  ------     --------------  -----  \n",
      " 0   Kabupaten  405 non-null    int32  \n",
      " 1   Jumlah     405 non-null    float64\n",
      " 2   Status     405 non-null    int32  \n",
      "dtypes: float64(1), int32(2)\n",
      "memory usage: 6.5 KB\n"
     ]
    }
   ],
   "source": [
    "#mengecek tipe data tiap variabel\n",
    "data.info()"
   ]
  },
  {
   "cell_type": "markdown",
   "id": "687dbbe1",
   "metadata": {},
   "source": [
    "# Splitting data"
   ]
  },
  {
   "cell_type": "code",
   "execution_count": 16,
   "id": "3e63b1f8",
   "metadata": {},
   "outputs": [],
   "source": [
    "#Splitting the data into independent and dependent variables\n",
    "X = data.iloc[:,0:2].values\n",
    "y = data.iloc[:,2].values"
   ]
  },
  {
   "cell_type": "markdown",
   "id": "f8727da5",
   "metadata": {},
   "source": [
    "# Klasifikasi SVM dengan perbandingan 90:10"
   ]
  },
  {
   "cell_type": "code",
   "execution_count": 17,
   "id": "23d4ac84",
   "metadata": {},
   "outputs": [],
   "source": [
    "# Creating the Training and Test set from data\n",
    "X_train, X_test, y_train, y_test = train_test_split(X, y, test_size = 0.10, random_state = 250)"
   ]
  },
  {
   "cell_type": "code",
   "execution_count": 18,
   "id": "db70c595",
   "metadata": {},
   "outputs": [
    {
     "data": {
      "text/plain": [
       "(364, 2)"
      ]
     },
     "execution_count": 18,
     "metadata": {},
     "output_type": "execute_result"
    }
   ],
   "source": [
    "X_train.shape"
   ]
  },
  {
   "cell_type": "code",
   "execution_count": 19,
   "id": "8a5be302",
   "metadata": {},
   "outputs": [
    {
     "data": {
      "text/plain": [
       "(41, 2)"
      ]
     },
     "execution_count": 19,
     "metadata": {},
     "output_type": "execute_result"
    }
   ],
   "source": [
    "X_test.shape"
   ]
  },
  {
   "cell_type": "code",
   "execution_count": 20,
   "id": "1dcd4956",
   "metadata": {},
   "outputs": [
    {
     "data": {
      "text/html": [
       "<style>#sk-container-id-1 {color: black;background-color: white;}#sk-container-id-1 pre{padding: 0;}#sk-container-id-1 div.sk-toggleable {background-color: white;}#sk-container-id-1 label.sk-toggleable__label {cursor: pointer;display: block;width: 100%;margin-bottom: 0;padding: 0.3em;box-sizing: border-box;text-align: center;}#sk-container-id-1 label.sk-toggleable__label-arrow:before {content: \"▸\";float: left;margin-right: 0.25em;color: #696969;}#sk-container-id-1 label.sk-toggleable__label-arrow:hover:before {color: black;}#sk-container-id-1 div.sk-estimator:hover label.sk-toggleable__label-arrow:before {color: black;}#sk-container-id-1 div.sk-toggleable__content {max-height: 0;max-width: 0;overflow: hidden;text-align: left;background-color: #f0f8ff;}#sk-container-id-1 div.sk-toggleable__content pre {margin: 0.2em;color: black;border-radius: 0.25em;background-color: #f0f8ff;}#sk-container-id-1 input.sk-toggleable__control:checked~div.sk-toggleable__content {max-height: 200px;max-width: 100%;overflow: auto;}#sk-container-id-1 input.sk-toggleable__control:checked~label.sk-toggleable__label-arrow:before {content: \"▾\";}#sk-container-id-1 div.sk-estimator input.sk-toggleable__control:checked~label.sk-toggleable__label {background-color: #d4ebff;}#sk-container-id-1 div.sk-label input.sk-toggleable__control:checked~label.sk-toggleable__label {background-color: #d4ebff;}#sk-container-id-1 input.sk-hidden--visually {border: 0;clip: rect(1px 1px 1px 1px);clip: rect(1px, 1px, 1px, 1px);height: 1px;margin: -1px;overflow: hidden;padding: 0;position: absolute;width: 1px;}#sk-container-id-1 div.sk-estimator {font-family: monospace;background-color: #f0f8ff;border: 1px dotted black;border-radius: 0.25em;box-sizing: border-box;margin-bottom: 0.5em;}#sk-container-id-1 div.sk-estimator:hover {background-color: #d4ebff;}#sk-container-id-1 div.sk-parallel-item::after {content: \"\";width: 100%;border-bottom: 1px solid gray;flex-grow: 1;}#sk-container-id-1 div.sk-label:hover label.sk-toggleable__label {background-color: #d4ebff;}#sk-container-id-1 div.sk-serial::before {content: \"\";position: absolute;border-left: 1px solid gray;box-sizing: border-box;top: 0;bottom: 0;left: 50%;z-index: 0;}#sk-container-id-1 div.sk-serial {display: flex;flex-direction: column;align-items: center;background-color: white;padding-right: 0.2em;padding-left: 0.2em;position: relative;}#sk-container-id-1 div.sk-item {position: relative;z-index: 1;}#sk-container-id-1 div.sk-parallel {display: flex;align-items: stretch;justify-content: center;background-color: white;position: relative;}#sk-container-id-1 div.sk-item::before, #sk-container-id-1 div.sk-parallel-item::before {content: \"\";position: absolute;border-left: 1px solid gray;box-sizing: border-box;top: 0;bottom: 0;left: 50%;z-index: -1;}#sk-container-id-1 div.sk-parallel-item {display: flex;flex-direction: column;z-index: 1;position: relative;background-color: white;}#sk-container-id-1 div.sk-parallel-item:first-child::after {align-self: flex-end;width: 50%;}#sk-container-id-1 div.sk-parallel-item:last-child::after {align-self: flex-start;width: 50%;}#sk-container-id-1 div.sk-parallel-item:only-child::after {width: 0;}#sk-container-id-1 div.sk-dashed-wrapped {border: 1px dashed gray;margin: 0 0.4em 0.5em 0.4em;box-sizing: border-box;padding-bottom: 0.4em;background-color: white;}#sk-container-id-1 div.sk-label label {font-family: monospace;font-weight: bold;display: inline-block;line-height: 1.2em;}#sk-container-id-1 div.sk-label-container {text-align: center;}#sk-container-id-1 div.sk-container {/* jupyter's `normalize.less` sets `[hidden] { display: none; }` but bootstrap.min.css set `[hidden] { display: none !important; }` so we also need the `!important` here to be able to override the default hidden behavior on the sphinx rendered scikit-learn.org. See: https://github.com/scikit-learn/scikit-learn/issues/21755 */display: inline-block !important;position: relative;}#sk-container-id-1 div.sk-text-repr-fallback {display: none;}</style><div id=\"sk-container-id-1\" class=\"sk-top-container\"><div class=\"sk-text-repr-fallback\"><pre>SVC(C=195, kernel=&#x27;poly&#x27;)</pre><b>In a Jupyter environment, please rerun this cell to show the HTML representation or trust the notebook. <br />On GitHub, the HTML representation is unable to render, please try loading this page with nbviewer.org.</b></div><div class=\"sk-container\" hidden><div class=\"sk-item\"><div class=\"sk-estimator sk-toggleable\"><input class=\"sk-toggleable__control sk-hidden--visually\" id=\"sk-estimator-id-1\" type=\"checkbox\" checked><label for=\"sk-estimator-id-1\" class=\"sk-toggleable__label sk-toggleable__label-arrow\">SVC</label><div class=\"sk-toggleable__content\"><pre>SVC(C=195, kernel=&#x27;poly&#x27;)</pre></div></div></div></div></div>"
      ],
      "text/plain": [
       "SVC(C=195, kernel='poly')"
      ]
     },
     "execution_count": 20,
     "metadata": {},
     "output_type": "execute_result"
    }
   ],
   "source": [
    "svc = SVC(kernel=\"poly\",C=195)\n",
    "svc.fit(X_train,y_train)"
   ]
  },
  {
   "cell_type": "code",
   "execution_count": 21,
   "id": "7ac3875b",
   "metadata": {},
   "outputs": [],
   "source": [
    "y_pred_svm=svc.predict(X_test)"
   ]
  },
  {
   "cell_type": "code",
   "execution_count": 22,
   "id": "2d504bba",
   "metadata": {},
   "outputs": [
    {
     "name": "stdout",
     "output_type": "stream",
     "text": [
      "Model accuracy score with 100 SVM : 0.8049\n"
     ]
    }
   ],
   "source": [
    "# Check accuracy score \n",
    "print('Model accuracy score with 100 SVM : {0:0.4f}'. format(accuracy_score(y_test, y_pred_svm)))"
   ]
  },
  {
   "cell_type": "code",
   "execution_count": 23,
   "id": "4cced548",
   "metadata": {},
   "outputs": [
    {
     "name": "stdout",
     "output_type": "stream",
     "text": [
      "Confusion matrix\n",
      "\n",
      " [[ 1  6  2]\n",
      " [ 0  9  0]\n",
      " [ 0  0 23]]\n"
     ]
    }
   ],
   "source": [
    "cm = confusion_matrix(y_test, y_pred_svm)\n",
    "\n",
    "print('Confusion matrix\\n\\n', cm)"
   ]
  },
  {
   "cell_type": "code",
   "execution_count": 24,
   "id": "5c9206f0",
   "metadata": {},
   "outputs": [
    {
     "name": "stdout",
     "output_type": "stream",
     "text": [
      "              precision    recall  f1-score   support\n",
      "\n",
      "           0       1.00      0.11      0.20         9\n",
      "           1       0.60      1.00      0.75         9\n",
      "           2       0.92      1.00      0.96        23\n",
      "\n",
      "    accuracy                           0.80        41\n",
      "   macro avg       0.84      0.70      0.64        41\n",
      "weighted avg       0.87      0.80      0.75        41\n",
      "\n"
     ]
    }
   ],
   "source": [
    "#evaluasi model\n",
    "print(classification_report(y_test, y_pred_svm))"
   ]
  },
  {
   "cell_type": "code",
   "execution_count": 25,
   "id": "ad77aa05",
   "metadata": {},
   "outputs": [
    {
     "data": {
      "text/plain": [
       "array([0, 1, 0, 2, 2, 1, 0, 2, 2, 1, 0, 2, 0, 1, 2, 2, 2, 2, 2, 2, 0, 1,\n",
       "       2, 2, 2, 2, 1, 2, 1, 2, 1, 0, 2, 2, 2, 2, 2, 2, 1, 0, 0])"
      ]
     },
     "execution_count": 25,
     "metadata": {},
     "output_type": "execute_result"
    }
   ],
   "source": [
    "y_test"
   ]
  },
  {
   "cell_type": "code",
   "execution_count": 26,
   "id": "bdb6b88b",
   "metadata": {},
   "outputs": [
    {
     "data": {
      "text/plain": [
       "array([1, 1, 1, 2, 2, 1, 0, 2, 2, 1, 1, 2, 1, 1, 2, 2, 2, 2, 2, 2, 2, 1,\n",
       "       2, 2, 2, 2, 1, 2, 1, 2, 1, 2, 2, 2, 2, 2, 2, 2, 1, 1, 1])"
      ]
     },
     "execution_count": 26,
     "metadata": {},
     "output_type": "execute_result"
    }
   ],
   "source": [
    "y_pred_svm"
   ]
  },
  {
   "cell_type": "markdown",
   "id": "8efabddb",
   "metadata": {},
   "source": [
    "# Klasifikasi SVM dengan perbandingan 80:20"
   ]
  },
  {
   "cell_type": "code",
   "execution_count": 27,
   "id": "b1ab520d",
   "metadata": {},
   "outputs": [],
   "source": [
    "# Creating the Training and Test set from data\n",
    "X_train1, X_test1, y_train1, y_test1 = train_test_split(X, y, test_size = 0.20, random_state = 250)"
   ]
  },
  {
   "cell_type": "code",
   "execution_count": 28,
   "id": "ebea3cfb",
   "metadata": {},
   "outputs": [
    {
     "data": {
      "text/plain": [
       "(324, 2)"
      ]
     },
     "execution_count": 28,
     "metadata": {},
     "output_type": "execute_result"
    }
   ],
   "source": [
    "X_train1.shape"
   ]
  },
  {
   "cell_type": "code",
   "execution_count": 29,
   "id": "bdf14d8d",
   "metadata": {},
   "outputs": [
    {
     "data": {
      "text/plain": [
       "(81, 2)"
      ]
     },
     "execution_count": 29,
     "metadata": {},
     "output_type": "execute_result"
    }
   ],
   "source": [
    "X_test1.shape"
   ]
  },
  {
   "cell_type": "code",
   "execution_count": 30,
   "id": "e3f52fac",
   "metadata": {},
   "outputs": [
    {
     "data": {
      "text/html": [
       "<style>#sk-container-id-2 {color: black;background-color: white;}#sk-container-id-2 pre{padding: 0;}#sk-container-id-2 div.sk-toggleable {background-color: white;}#sk-container-id-2 label.sk-toggleable__label {cursor: pointer;display: block;width: 100%;margin-bottom: 0;padding: 0.3em;box-sizing: border-box;text-align: center;}#sk-container-id-2 label.sk-toggleable__label-arrow:before {content: \"▸\";float: left;margin-right: 0.25em;color: #696969;}#sk-container-id-2 label.sk-toggleable__label-arrow:hover:before {color: black;}#sk-container-id-2 div.sk-estimator:hover label.sk-toggleable__label-arrow:before {color: black;}#sk-container-id-2 div.sk-toggleable__content {max-height: 0;max-width: 0;overflow: hidden;text-align: left;background-color: #f0f8ff;}#sk-container-id-2 div.sk-toggleable__content pre {margin: 0.2em;color: black;border-radius: 0.25em;background-color: #f0f8ff;}#sk-container-id-2 input.sk-toggleable__control:checked~div.sk-toggleable__content {max-height: 200px;max-width: 100%;overflow: auto;}#sk-container-id-2 input.sk-toggleable__control:checked~label.sk-toggleable__label-arrow:before {content: \"▾\";}#sk-container-id-2 div.sk-estimator input.sk-toggleable__control:checked~label.sk-toggleable__label {background-color: #d4ebff;}#sk-container-id-2 div.sk-label input.sk-toggleable__control:checked~label.sk-toggleable__label {background-color: #d4ebff;}#sk-container-id-2 input.sk-hidden--visually {border: 0;clip: rect(1px 1px 1px 1px);clip: rect(1px, 1px, 1px, 1px);height: 1px;margin: -1px;overflow: hidden;padding: 0;position: absolute;width: 1px;}#sk-container-id-2 div.sk-estimator {font-family: monospace;background-color: #f0f8ff;border: 1px dotted black;border-radius: 0.25em;box-sizing: border-box;margin-bottom: 0.5em;}#sk-container-id-2 div.sk-estimator:hover {background-color: #d4ebff;}#sk-container-id-2 div.sk-parallel-item::after {content: \"\";width: 100%;border-bottom: 1px solid gray;flex-grow: 1;}#sk-container-id-2 div.sk-label:hover label.sk-toggleable__label {background-color: #d4ebff;}#sk-container-id-2 div.sk-serial::before {content: \"\";position: absolute;border-left: 1px solid gray;box-sizing: border-box;top: 0;bottom: 0;left: 50%;z-index: 0;}#sk-container-id-2 div.sk-serial {display: flex;flex-direction: column;align-items: center;background-color: white;padding-right: 0.2em;padding-left: 0.2em;position: relative;}#sk-container-id-2 div.sk-item {position: relative;z-index: 1;}#sk-container-id-2 div.sk-parallel {display: flex;align-items: stretch;justify-content: center;background-color: white;position: relative;}#sk-container-id-2 div.sk-item::before, #sk-container-id-2 div.sk-parallel-item::before {content: \"\";position: absolute;border-left: 1px solid gray;box-sizing: border-box;top: 0;bottom: 0;left: 50%;z-index: -1;}#sk-container-id-2 div.sk-parallel-item {display: flex;flex-direction: column;z-index: 1;position: relative;background-color: white;}#sk-container-id-2 div.sk-parallel-item:first-child::after {align-self: flex-end;width: 50%;}#sk-container-id-2 div.sk-parallel-item:last-child::after {align-self: flex-start;width: 50%;}#sk-container-id-2 div.sk-parallel-item:only-child::after {width: 0;}#sk-container-id-2 div.sk-dashed-wrapped {border: 1px dashed gray;margin: 0 0.4em 0.5em 0.4em;box-sizing: border-box;padding-bottom: 0.4em;background-color: white;}#sk-container-id-2 div.sk-label label {font-family: monospace;font-weight: bold;display: inline-block;line-height: 1.2em;}#sk-container-id-2 div.sk-label-container {text-align: center;}#sk-container-id-2 div.sk-container {/* jupyter's `normalize.less` sets `[hidden] { display: none; }` but bootstrap.min.css set `[hidden] { display: none !important; }` so we also need the `!important` here to be able to override the default hidden behavior on the sphinx rendered scikit-learn.org. See: https://github.com/scikit-learn/scikit-learn/issues/21755 */display: inline-block !important;position: relative;}#sk-container-id-2 div.sk-text-repr-fallback {display: none;}</style><div id=\"sk-container-id-2\" class=\"sk-top-container\"><div class=\"sk-text-repr-fallback\"><pre>SVC(C=195, kernel=&#x27;poly&#x27;)</pre><b>In a Jupyter environment, please rerun this cell to show the HTML representation or trust the notebook. <br />On GitHub, the HTML representation is unable to render, please try loading this page with nbviewer.org.</b></div><div class=\"sk-container\" hidden><div class=\"sk-item\"><div class=\"sk-estimator sk-toggleable\"><input class=\"sk-toggleable__control sk-hidden--visually\" id=\"sk-estimator-id-2\" type=\"checkbox\" checked><label for=\"sk-estimator-id-2\" class=\"sk-toggleable__label sk-toggleable__label-arrow\">SVC</label><div class=\"sk-toggleable__content\"><pre>SVC(C=195, kernel=&#x27;poly&#x27;)</pre></div></div></div></div></div>"
      ],
      "text/plain": [
       "SVC(C=195, kernel='poly')"
      ]
     },
     "execution_count": 30,
     "metadata": {},
     "output_type": "execute_result"
    }
   ],
   "source": [
    "svc1 = SVC(kernel=\"poly\",C=195)\n",
    "svc1.fit(X_train,y_train)"
   ]
  },
  {
   "cell_type": "code",
   "execution_count": 31,
   "id": "625e4c97",
   "metadata": {},
   "outputs": [],
   "source": [
    "y_pred_svm1=svc1.predict(X_test1)"
   ]
  },
  {
   "cell_type": "code",
   "execution_count": 32,
   "id": "e0fee1d2",
   "metadata": {},
   "outputs": [
    {
     "name": "stdout",
     "output_type": "stream",
     "text": [
      "Model accuracy score with 100 SVM 1 : 0.6914\n"
     ]
    }
   ],
   "source": [
    "# Check accuracy score \n",
    "print('Model accuracy score with 100 SVM 1 : {0:0.4f}'. format(accuracy_score(y_test1, y_pred_svm1)))"
   ]
  },
  {
   "cell_type": "code",
   "execution_count": 33,
   "id": "d31a9c52",
   "metadata": {},
   "outputs": [
    {
     "name": "stdout",
     "output_type": "stream",
     "text": [
      "Confusion matrix\n",
      "\n",
      " [[ 2 11  7]\n",
      " [ 1 17  6]\n",
      " [ 0  0 37]]\n"
     ]
    }
   ],
   "source": [
    "cm1 = confusion_matrix(y_test1, y_pred_svm1)\n",
    "\n",
    "print('Confusion matrix\\n\\n', cm1)"
   ]
  },
  {
   "cell_type": "code",
   "execution_count": 34,
   "id": "7a22e59d",
   "metadata": {},
   "outputs": [
    {
     "name": "stdout",
     "output_type": "stream",
     "text": [
      "              precision    recall  f1-score   support\n",
      "\n",
      "           0       0.67      0.10      0.17        20\n",
      "           1       0.61      0.71      0.65        24\n",
      "           2       0.74      1.00      0.85        37\n",
      "\n",
      "    accuracy                           0.69        81\n",
      "   macro avg       0.67      0.60      0.56        81\n",
      "weighted avg       0.68      0.69      0.63        81\n",
      "\n"
     ]
    }
   ],
   "source": [
    "#evaluasi model\n",
    "print(classification_report(y_test1, y_pred_svm1))"
   ]
  },
  {
   "cell_type": "code",
   "execution_count": 35,
   "id": "2b84cf9e",
   "metadata": {},
   "outputs": [
    {
     "data": {
      "text/plain": [
       "array([0, 1, 0, 2, 2, 1, 0, 2, 2, 1, 0, 2, 0, 1, 2, 2, 2, 2, 2, 2, 0, 1,\n",
       "       2, 2, 2, 2, 1, 2, 1, 2, 1, 0, 2, 2, 2, 2, 2, 2, 1, 0, 0, 2, 1, 1,\n",
       "       0, 0, 0, 1, 2, 1, 1, 0, 1, 1, 1, 2, 2, 1, 2, 2, 2, 0, 0, 1, 2, 2,\n",
       "       0, 1, 0, 0, 0, 1, 2, 1, 2, 1, 0, 1, 2, 2, 2])"
      ]
     },
     "execution_count": 35,
     "metadata": {},
     "output_type": "execute_result"
    }
   ],
   "source": [
    "y_test1"
   ]
  },
  {
   "cell_type": "code",
   "execution_count": 36,
   "id": "fc6f5666",
   "metadata": {},
   "outputs": [
    {
     "data": {
      "text/plain": [
       "array([1, 1, 1, 2, 2, 1, 0, 2, 2, 1, 1, 2, 1, 1, 2, 2, 2, 2, 2, 2, 2, 1,\n",
       "       2, 2, 2, 2, 1, 2, 1, 2, 1, 2, 2, 2, 2, 2, 2, 2, 1, 1, 1, 2, 2, 1,\n",
       "       1, 1, 1, 2, 2, 2, 0, 0, 1, 1, 2, 2, 2, 1, 2, 2, 2, 2, 1, 1, 2, 2,\n",
       "       1, 1, 2, 2, 2, 1, 2, 2, 2, 1, 2, 2, 2, 2, 2])"
      ]
     },
     "execution_count": 36,
     "metadata": {},
     "output_type": "execute_result"
    }
   ],
   "source": [
    "y_pred_svm1"
   ]
  },
  {
   "cell_type": "markdown",
   "id": "bd39b4d8",
   "metadata": {},
   "source": [
    "# Klasifikasi SVM dengan perbandingan 70:30"
   ]
  },
  {
   "cell_type": "code",
   "execution_count": 37,
   "id": "6a1491dd",
   "metadata": {},
   "outputs": [],
   "source": [
    "# Creating the Training and Test set from data\n",
    "X_train2, X_test2, y_train2, y_test2 = train_test_split(X, y, test_size = 0.30, random_state = 250)"
   ]
  },
  {
   "cell_type": "code",
   "execution_count": 38,
   "id": "c24ae3de",
   "metadata": {},
   "outputs": [
    {
     "data": {
      "text/plain": [
       "(283, 2)"
      ]
     },
     "execution_count": 38,
     "metadata": {},
     "output_type": "execute_result"
    }
   ],
   "source": [
    "X_train2.shape"
   ]
  },
  {
   "cell_type": "code",
   "execution_count": 39,
   "id": "c79ecb3d",
   "metadata": {},
   "outputs": [
    {
     "data": {
      "text/plain": [
       "(122, 2)"
      ]
     },
     "execution_count": 39,
     "metadata": {},
     "output_type": "execute_result"
    }
   ],
   "source": [
    "X_test2.shape"
   ]
  },
  {
   "cell_type": "code",
   "execution_count": 40,
   "id": "2a2e17a6",
   "metadata": {},
   "outputs": [
    {
     "data": {
      "text/html": [
       "<style>#sk-container-id-3 {color: black;background-color: white;}#sk-container-id-3 pre{padding: 0;}#sk-container-id-3 div.sk-toggleable {background-color: white;}#sk-container-id-3 label.sk-toggleable__label {cursor: pointer;display: block;width: 100%;margin-bottom: 0;padding: 0.3em;box-sizing: border-box;text-align: center;}#sk-container-id-3 label.sk-toggleable__label-arrow:before {content: \"▸\";float: left;margin-right: 0.25em;color: #696969;}#sk-container-id-3 label.sk-toggleable__label-arrow:hover:before {color: black;}#sk-container-id-3 div.sk-estimator:hover label.sk-toggleable__label-arrow:before {color: black;}#sk-container-id-3 div.sk-toggleable__content {max-height: 0;max-width: 0;overflow: hidden;text-align: left;background-color: #f0f8ff;}#sk-container-id-3 div.sk-toggleable__content pre {margin: 0.2em;color: black;border-radius: 0.25em;background-color: #f0f8ff;}#sk-container-id-3 input.sk-toggleable__control:checked~div.sk-toggleable__content {max-height: 200px;max-width: 100%;overflow: auto;}#sk-container-id-3 input.sk-toggleable__control:checked~label.sk-toggleable__label-arrow:before {content: \"▾\";}#sk-container-id-3 div.sk-estimator input.sk-toggleable__control:checked~label.sk-toggleable__label {background-color: #d4ebff;}#sk-container-id-3 div.sk-label input.sk-toggleable__control:checked~label.sk-toggleable__label {background-color: #d4ebff;}#sk-container-id-3 input.sk-hidden--visually {border: 0;clip: rect(1px 1px 1px 1px);clip: rect(1px, 1px, 1px, 1px);height: 1px;margin: -1px;overflow: hidden;padding: 0;position: absolute;width: 1px;}#sk-container-id-3 div.sk-estimator {font-family: monospace;background-color: #f0f8ff;border: 1px dotted black;border-radius: 0.25em;box-sizing: border-box;margin-bottom: 0.5em;}#sk-container-id-3 div.sk-estimator:hover {background-color: #d4ebff;}#sk-container-id-3 div.sk-parallel-item::after {content: \"\";width: 100%;border-bottom: 1px solid gray;flex-grow: 1;}#sk-container-id-3 div.sk-label:hover label.sk-toggleable__label {background-color: #d4ebff;}#sk-container-id-3 div.sk-serial::before {content: \"\";position: absolute;border-left: 1px solid gray;box-sizing: border-box;top: 0;bottom: 0;left: 50%;z-index: 0;}#sk-container-id-3 div.sk-serial {display: flex;flex-direction: column;align-items: center;background-color: white;padding-right: 0.2em;padding-left: 0.2em;position: relative;}#sk-container-id-3 div.sk-item {position: relative;z-index: 1;}#sk-container-id-3 div.sk-parallel {display: flex;align-items: stretch;justify-content: center;background-color: white;position: relative;}#sk-container-id-3 div.sk-item::before, #sk-container-id-3 div.sk-parallel-item::before {content: \"\";position: absolute;border-left: 1px solid gray;box-sizing: border-box;top: 0;bottom: 0;left: 50%;z-index: -1;}#sk-container-id-3 div.sk-parallel-item {display: flex;flex-direction: column;z-index: 1;position: relative;background-color: white;}#sk-container-id-3 div.sk-parallel-item:first-child::after {align-self: flex-end;width: 50%;}#sk-container-id-3 div.sk-parallel-item:last-child::after {align-self: flex-start;width: 50%;}#sk-container-id-3 div.sk-parallel-item:only-child::after {width: 0;}#sk-container-id-3 div.sk-dashed-wrapped {border: 1px dashed gray;margin: 0 0.4em 0.5em 0.4em;box-sizing: border-box;padding-bottom: 0.4em;background-color: white;}#sk-container-id-3 div.sk-label label {font-family: monospace;font-weight: bold;display: inline-block;line-height: 1.2em;}#sk-container-id-3 div.sk-label-container {text-align: center;}#sk-container-id-3 div.sk-container {/* jupyter's `normalize.less` sets `[hidden] { display: none; }` but bootstrap.min.css set `[hidden] { display: none !important; }` so we also need the `!important` here to be able to override the default hidden behavior on the sphinx rendered scikit-learn.org. See: https://github.com/scikit-learn/scikit-learn/issues/21755 */display: inline-block !important;position: relative;}#sk-container-id-3 div.sk-text-repr-fallback {display: none;}</style><div id=\"sk-container-id-3\" class=\"sk-top-container\"><div class=\"sk-text-repr-fallback\"><pre>SVC(C=195, kernel=&#x27;poly&#x27;)</pre><b>In a Jupyter environment, please rerun this cell to show the HTML representation or trust the notebook. <br />On GitHub, the HTML representation is unable to render, please try loading this page with nbviewer.org.</b></div><div class=\"sk-container\" hidden><div class=\"sk-item\"><div class=\"sk-estimator sk-toggleable\"><input class=\"sk-toggleable__control sk-hidden--visually\" id=\"sk-estimator-id-3\" type=\"checkbox\" checked><label for=\"sk-estimator-id-3\" class=\"sk-toggleable__label sk-toggleable__label-arrow\">SVC</label><div class=\"sk-toggleable__content\"><pre>SVC(C=195, kernel=&#x27;poly&#x27;)</pre></div></div></div></div></div>"
      ],
      "text/plain": [
       "SVC(C=195, kernel='poly')"
      ]
     },
     "execution_count": 40,
     "metadata": {},
     "output_type": "execute_result"
    }
   ],
   "source": [
    "svc2 = SVC(kernel=\"poly\",C=195)\n",
    "svc2.fit(X_train,y_train)"
   ]
  },
  {
   "cell_type": "code",
   "execution_count": 41,
   "id": "f94ddec0",
   "metadata": {},
   "outputs": [],
   "source": [
    "y_pred_svm2=svc2.predict(X_test2)"
   ]
  },
  {
   "cell_type": "code",
   "execution_count": 42,
   "id": "801d5f7e",
   "metadata": {},
   "outputs": [
    {
     "name": "stdout",
     "output_type": "stream",
     "text": [
      "Model accuracy score with 100 SVM 2 : 0.6475\n"
     ]
    }
   ],
   "source": [
    "# Check accuracy score \n",
    "print('Model accuracy score with 100 SVM 2 : {0:0.4f}'. format(accuracy_score(y_test2, y_pred_svm2)))"
   ]
  },
  {
   "cell_type": "code",
   "execution_count": 43,
   "id": "ab30c9f8",
   "metadata": {},
   "outputs": [
    {
     "name": "stdout",
     "output_type": "stream",
     "text": [
      "Confusion matrix\n",
      "\n",
      " [[ 6 19  8]\n",
      " [ 4 23 11]\n",
      " [ 0  1 50]]\n"
     ]
    }
   ],
   "source": [
    "cm2 = confusion_matrix(y_test2, y_pred_svm2)\n",
    "\n",
    "print('Confusion matrix\\n\\n', cm2)"
   ]
  },
  {
   "cell_type": "code",
   "execution_count": 44,
   "id": "58348afc",
   "metadata": {},
   "outputs": [
    {
     "name": "stdout",
     "output_type": "stream",
     "text": [
      "              precision    recall  f1-score   support\n",
      "\n",
      "           0       0.60      0.18      0.28        33\n",
      "           1       0.53      0.61      0.57        38\n",
      "           2       0.72      0.98      0.83        51\n",
      "\n",
      "    accuracy                           0.65       122\n",
      "   macro avg       0.62      0.59      0.56       122\n",
      "weighted avg       0.63      0.65      0.60       122\n",
      "\n"
     ]
    }
   ],
   "source": [
    "#evaluasi model\n",
    "print(classification_report(y_test2, y_pred_svm2))"
   ]
  },
  {
   "cell_type": "code",
   "execution_count": null,
   "id": "1e6f0594",
   "metadata": {},
   "outputs": [],
   "source": []
  },
  {
   "cell_type": "code",
   "execution_count": null,
   "id": "62f9ee33",
   "metadata": {},
   "outputs": [],
   "source": []
  },
  {
   "cell_type": "code",
   "execution_count": null,
   "id": "3f1fb01d",
   "metadata": {},
   "outputs": [],
   "source": []
  }
 ],
 "metadata": {
  "kernelspec": {
   "display_name": "Python 3 (ipykernel)",
   "language": "python",
   "name": "python3"
  },
  "language_info": {
   "codemirror_mode": {
    "name": "ipython",
    "version": 3
   },
   "file_extension": ".py",
   "mimetype": "text/x-python",
   "name": "python",
   "nbconvert_exporter": "python",
   "pygments_lexer": "ipython3",
   "version": "3.10.7"
  }
 },
 "nbformat": 4,
 "nbformat_minor": 5
}
